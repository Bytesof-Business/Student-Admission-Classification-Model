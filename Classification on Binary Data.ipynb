{
 "cells": [
  {
   "cell_type": "code",
   "execution_count": 1,
   "id": "78775b6c-694f-433d-8728-c7b62060bacf",
   "metadata": {},
   "outputs": [],
   "source": [
    "import pandas as pd \n",
    "import numpy as np\n",
    "import matplotlib.pyplot as plt\n",
    "from sklearn.preprocessing import StandardScaler\n",
    "from sklearn.model_selection import train_test_split \n",
    "from sklearn.discriminant_analysis import LinearDiscriminantAnalysis\n",
    "from sklearn.metrics import confusion_matrix, accuracy_score\n",
    "from sklearn.metrics import ConfusionMatrixDisplay,precision_score,recall_score,confusion_matrix "
   ]
  },
  {
   "cell_type": "code",
   "execution_count": 2,
   "id": "caef2209-fa6b-4139-b49c-96c2a426d6cb",
   "metadata": {},
   "outputs": [
    {
     "name": "stdout",
     "output_type": "stream",
     "text": [
      "no. of rows =  400 \n",
      "no. of columns =  4\n"
     ]
    },
    {
     "data": {
      "text/html": [
       "<div>\n",
       "<style scoped>\n",
       "    .dataframe tbody tr th:only-of-type {\n",
       "        vertical-align: middle;\n",
       "    }\n",
       "\n",
       "    .dataframe tbody tr th {\n",
       "        vertical-align: top;\n",
       "    }\n",
       "\n",
       "    .dataframe thead th {\n",
       "        text-align: right;\n",
       "    }\n",
       "</style>\n",
       "<table border=\"1\" class=\"dataframe\">\n",
       "  <thead>\n",
       "    <tr style=\"text-align: right;\">\n",
       "      <th></th>\n",
       "      <th>admit</th>\n",
       "      <th>gre</th>\n",
       "      <th>gpa</th>\n",
       "      <th>rank</th>\n",
       "    </tr>\n",
       "  </thead>\n",
       "  <tbody>\n",
       "    <tr>\n",
       "      <th>0</th>\n",
       "      <td>0</td>\n",
       "      <td>380</td>\n",
       "      <td>3.61</td>\n",
       "      <td>3</td>\n",
       "    </tr>\n",
       "    <tr>\n",
       "      <th>1</th>\n",
       "      <td>1</td>\n",
       "      <td>660</td>\n",
       "      <td>3.67</td>\n",
       "      <td>3</td>\n",
       "    </tr>\n",
       "    <tr>\n",
       "      <th>2</th>\n",
       "      <td>1</td>\n",
       "      <td>800</td>\n",
       "      <td>4.00</td>\n",
       "      <td>1</td>\n",
       "    </tr>\n",
       "    <tr>\n",
       "      <th>3</th>\n",
       "      <td>1</td>\n",
       "      <td>640</td>\n",
       "      <td>3.19</td>\n",
       "      <td>4</td>\n",
       "    </tr>\n",
       "    <tr>\n",
       "      <th>4</th>\n",
       "      <td>0</td>\n",
       "      <td>520</td>\n",
       "      <td>2.93</td>\n",
       "      <td>4</td>\n",
       "    </tr>\n",
       "  </tbody>\n",
       "</table>\n",
       "</div>"
      ],
      "text/plain": [
       "   admit  gre   gpa  rank\n",
       "0      0  380  3.61     3\n",
       "1      1  660  3.67     3\n",
       "2      1  800  4.00     1\n",
       "3      1  640  3.19     4\n",
       "4      0  520  2.93     4"
      ]
     },
     "execution_count": 2,
     "metadata": {},
     "output_type": "execute_result"
    }
   ],
   "source": [
    "df = pd.read_csv(\"D:/binary.csv\")\n",
    "print(\"no. of rows = \", df.shape[0],\"\\nno. of columns = \", df.shape[1])\n",
    "df.head()"
   ]
  },
  {
   "cell_type": "code",
   "execution_count": 3,
   "id": "7966730a-c357-494b-ada2-ca8f5c579103",
   "metadata": {},
   "outputs": [
    {
     "data": {
      "text/plain": [
       "admit    0\n",
       "gre      0\n",
       "gpa      0\n",
       "rank     0\n",
       "dtype: int64"
      ]
     },
     "execution_count": 3,
     "metadata": {},
     "output_type": "execute_result"
    }
   ],
   "source": [
    "df.isnull().sum()"
   ]
  },
  {
   "cell_type": "code",
   "execution_count": 34,
   "id": "0b597844-6b21-4407-aefa-2b1944a0e7d4",
   "metadata": {},
   "outputs": [],
   "source": [
    "X = df.drop('admit', axis = 1)  #Using \"gre\", \"gpa\", \"rank\" \n",
    "Y = df['admit']\n",
    "\n",
    "# Splitting the data into training and testing sets (70% train, 30% test)\n",
    "X_train, X_test, Y_train, Y_test = train_test_split(X, Y, test_size=0.3, random_state=21)"
   ]
  },
  {
   "cell_type": "code",
   "execution_count": 5,
   "id": "f80646d6-5752-4f33-87d7-2a0b8d225ee5",
   "metadata": {},
   "outputs": [
    {
     "name": "stdout",
     "output_type": "stream",
     "text": [
      "(280, 3) (280,)\n"
     ]
    }
   ],
   "source": [
    "print(X_train.shape, Y_train.shape)   # Should match in row count"
   ]
  },
  {
   "cell_type": "code",
   "execution_count": 6,
   "id": "6607b979-1267-413f-a3f7-1654ddc6fc8e",
   "metadata": {},
   "outputs": [],
   "source": [
    "# Standardizing the features for LDA\n",
    "\n",
    "scaler = StandardScaler()\n",
    "X_train_scaled = scaler.fit_transform(X_train)\n",
    "X_test_scaled = scaler.transform(X_test)"
   ]
  },
  {
   "cell_type": "code",
   "execution_count": 7,
   "id": "2d82b6b8-b110-4a4b-bca2-a173f3680480",
   "metadata": {},
   "outputs": [],
   "source": [
    "# Building the LDA model\n",
    "LDA = LinearDiscriminantAnalysis()\n",
    "LDA.fit(X_train_scaled, Y_train)\n",
    "\n",
    "# Predict on test data for Admitting or not Admitting the Student\n",
    "LDA_pred = LDA.predict(X_test_scaled)"
   ]
  },
  {
   "cell_type": "code",
   "execution_count": 19,
   "id": "37862357-eeee-43f9-891a-f5fe53508adb",
   "metadata": {},
   "outputs": [
    {
     "data": {
      "text/html": [
       "<div>\n",
       "<style scoped>\n",
       "    .dataframe tbody tr th:only-of-type {\n",
       "        vertical-align: middle;\n",
       "    }\n",
       "\n",
       "    .dataframe tbody tr th {\n",
       "        vertical-align: top;\n",
       "    }\n",
       "\n",
       "    .dataframe thead th {\n",
       "        text-align: right;\n",
       "    }\n",
       "</style>\n",
       "<table border=\"1\" class=\"dataframe\">\n",
       "  <thead>\n",
       "    <tr style=\"text-align: right;\">\n",
       "      <th></th>\n",
       "      <th>admit</th>\n",
       "      <th>pred_admit</th>\n",
       "    </tr>\n",
       "  </thead>\n",
       "  <tbody>\n",
       "    <tr>\n",
       "      <th>0</th>\n",
       "      <td>1</td>\n",
       "      <td>1</td>\n",
       "    </tr>\n",
       "    <tr>\n",
       "      <th>1</th>\n",
       "      <td>0</td>\n",
       "      <td>1</td>\n",
       "    </tr>\n",
       "    <tr>\n",
       "      <th>2</th>\n",
       "      <td>0</td>\n",
       "      <td>0</td>\n",
       "    </tr>\n",
       "    <tr>\n",
       "      <th>3</th>\n",
       "      <td>0</td>\n",
       "      <td>0</td>\n",
       "    </tr>\n",
       "    <tr>\n",
       "      <th>4</th>\n",
       "      <td>0</td>\n",
       "      <td>0</td>\n",
       "    </tr>\n",
       "  </tbody>\n",
       "</table>\n",
       "</div>"
      ],
      "text/plain": [
       "   admit  pred_admit\n",
       "0      1           1\n",
       "1      0           1\n",
       "2      0           0\n",
       "3      0           0\n",
       "4      0           0"
      ]
     },
     "execution_count": 19,
     "metadata": {},
     "output_type": "execute_result"
    }
   ],
   "source": [
    "# Adding the predictions to the test set as a new column 'pred_admit'\n",
    "Y_test = Y_test.reset_index(drop=True)\n",
    "Y_test = pd.DataFrame(Y_test)\n",
    "Y_test['pred_admit'] = LDA_pred\n",
    "Y_test.head()"
   ]
  },
  {
   "cell_type": "code",
   "execution_count": 10,
   "id": "2900a4ab-5c44-4884-a2e8-0aac155a2236",
   "metadata": {},
   "outputs": [
    {
     "data": {
      "text/html": [
       "<div>\n",
       "<style scoped>\n",
       "    .dataframe tbody tr th:only-of-type {\n",
       "        vertical-align: middle;\n",
       "    }\n",
       "\n",
       "    .dataframe tbody tr th {\n",
       "        vertical-align: top;\n",
       "    }\n",
       "\n",
       "    .dataframe thead th {\n",
       "        text-align: right;\n",
       "    }\n",
       "</style>\n",
       "<table border=\"1\" class=\"dataframe\">\n",
       "  <thead>\n",
       "    <tr style=\"text-align: right;\">\n",
       "      <th>pred_admit</th>\n",
       "      <th>0</th>\n",
       "      <th>1</th>\n",
       "    </tr>\n",
       "    <tr>\n",
       "      <th>admit</th>\n",
       "      <th></th>\n",
       "      <th></th>\n",
       "    </tr>\n",
       "  </thead>\n",
       "  <tbody>\n",
       "    <tr>\n",
       "      <th>0</th>\n",
       "      <td>84</td>\n",
       "      <td>5</td>\n",
       "    </tr>\n",
       "    <tr>\n",
       "      <th>1</th>\n",
       "      <td>23</td>\n",
       "      <td>8</td>\n",
       "    </tr>\n",
       "  </tbody>\n",
       "</table>\n",
       "</div>"
      ],
      "text/plain": [
       "pred_admit   0  1\n",
       "admit            \n",
       "0           84  5\n",
       "1           23  8"
      ]
     },
     "execution_count": 10,
     "metadata": {},
     "output_type": "execute_result"
    }
   ],
   "source": [
    "# Creating the confusion matrix\n",
    "cm = pd.crosstab(Y_test['admit'], Y_test['pred_admit'])\n",
    "cm"
   ]
  },
  {
   "cell_type": "markdown",
   "id": "89053204-fb34-437d-9364-a9381963d8cf",
   "metadata": {},
   "source": [
    "             Predicted\n",
    "           | 0     | 1\n",
    "    Actual |-------|-------\n",
    "      0    |  TN   |  FP\n",
    "      1    |  FN   |  TP\n"
   ]
  },
  {
   "cell_type": "code",
   "execution_count": 11,
   "id": "f2a44cb6-5244-4b06-aeb2-799bac8836e6",
   "metadata": {},
   "outputs": [],
   "source": [
    "# Extracting TN, FP, FN, TP from the confusion matrix\n",
    "tn, fp, fn, tp = cm.to_numpy().ravel()   \n",
    "\n",
    "# The Confusion Matrix(cm) is in Dataframe form then we can'nt directly use \"tn, fp, fn, tp = cm.ravel()\" this code we can use \"numpy\" before directly calling ravel to convert the dataframe into array first."
   ]
  },
  {
   "cell_type": "code",
   "execution_count": 12,
   "id": "1a167820-d16c-4c25-929a-cd4d5f065d18",
   "metadata": {},
   "outputs": [
    {
     "name": "stdout",
     "output_type": "stream",
     "text": [
      "True Positive: 8\n",
      "True Negative: 84\n",
      "False Positive: 5\n",
      "False Negative: 23\n"
     ]
    }
   ],
   "source": [
    "print('True Positive:', tp)\n",
    "print('True Negative:', tn)\n",
    "print('False Positive:', fp)\n",
    "print('False Negative:', fn)"
   ]
  },
  {
   "cell_type": "code",
   "execution_count": 13,
   "id": "e70bbbd2-7892-4817-9d5d-efa0e98943aa",
   "metadata": {},
   "outputs": [
    {
     "data": {
      "text/plain": [
       "0.7666666666666667"
      ]
     },
     "execution_count": 13,
     "metadata": {},
     "output_type": "execute_result"
    }
   ],
   "source": [
    "# Calculating accuracy manually using the confusion matrix values\n",
    "accuracy = (tp + tn) / (tp + tn + fp + fn)\n",
    "accuracy"
   ]
  },
  {
   "cell_type": "markdown",
   "id": "fdddca7d-0534-4887-b7b5-8e5852718997",
   "metadata": {},
   "source": [
    "The accuracy score of 0.7667 (rounded) indicates that the model correctly predicted about 76.67% of the test data."
   ]
  },
  {
   "cell_type": "markdown",
   "id": "643536a1-71e4-48d1-a1a8-2edb764c92af",
   "metadata": {},
   "source": [
    "Final Result: Model Evaluation\n",
    "# Accuracy: 76.67%%\n",
    "\n",
    "The model correctly predicted admission status in approximately 76.67%% of cases.\n",
    "\n",
    "Confusion Matrix Breakdown:\n",
    "\n",
    "True Positive (TP): Correctly predicted admitted students.\n",
    "\n",
    "True Negative (TN): Correctly predicted non-admitted students.\n",
    "\n",
    "False Positive (FP): Incorrectly predicted admitted when not admitted.\n",
    "\n",
    "False Negative (FN): Incorrectly predicted not admitted when admitted."
   ]
  },
  {
   "cell_type": "code",
   "execution_count": 44,
   "id": "51c0091a-5c69-4c14-94d2-95b85921511a",
   "metadata": {},
   "outputs": [
    {
     "data": {
      "image/png": "[encoded data removed]",
      "text/plain": [
       "<Figure size 600x500 with 2 Axes>"
      ]
     },
     "metadata": {},
     "output_type": "display_data"
    }
   ],
   "source": [
    "# Confusion matrix values\n",
    "tp, tn, fp, fn = 8, 84, 5, 23\n",
    "\n",
    "# Create a confusion matrix array\n",
    "conf_matrix = np.array([[tn, fp], [fn, tp]])\n",
    "\n",
    "# Plotting the heatmap\n",
    "plt.figure(figsize=(6, 5))\n",
    "sns.heatmap(conf_matrix, annot=True, fmt='d', cmap='Blues', cbar=True,\n",
    "            xticklabels=['Predicted No', 'Predicted Yes'],\n",
    "            yticklabels=['Actual No', 'Actual Yes'])\n",
    "\n",
    "# Adding titles and labels\n",
    "plt.title(\"Confusion Matrix Heatmap\")\n",
    "plt.xlabel(\"Predicted\")\n",
    "plt.ylabel(\"Actual\")\n",
    "\n",
    "# Display the heatmap\n",
    "plt.show()"
   ]
  },
  {
   "cell_type": "code",
   "execution_count": 32,
   "id": "0c8615bf-7a23-44e8-a7a5-2538b08c3a2f",
   "metadata": {},
   "outputs": [
    {
     "data": {
      "text/html": [
       "<div>\n",
       "<style scoped>\n",
       "    .dataframe tbody tr th:only-of-type {\n",
       "        vertical-align: middle;\n",
       "    }\n",
       "\n",
       "    .dataframe tbody tr th {\n",
       "        vertical-align: top;\n",
       "    }\n",
       "\n",
       "    .dataframe thead th {\n",
       "        text-align: right;\n",
       "    }\n",
       "</style>\n",
       "<table border=\"1\" class=\"dataframe\">\n",
       "  <thead>\n",
       "    <tr style=\"text-align: right;\">\n",
       "      <th></th>\n",
       "      <th>gre score</th>\n",
       "      <th>gpa score</th>\n",
       "      <th>Rank</th>\n",
       "      <th>Actual admit</th>\n",
       "      <th>Predicted admit</th>\n",
       "    </tr>\n",
       "  </thead>\n",
       "  <tbody>\n",
       "    <tr>\n",
       "      <th>0</th>\n",
       "      <td>380</td>\n",
       "      <td>3.61</td>\n",
       "      <td>3</td>\n",
       "      <td>1.0</td>\n",
       "      <td>1.0</td>\n",
       "    </tr>\n",
       "    <tr>\n",
       "      <th>1</th>\n",
       "      <td>660</td>\n",
       "      <td>3.67</td>\n",
       "      <td>3</td>\n",
       "      <td>0.0</td>\n",
       "      <td>1.0</td>\n",
       "    </tr>\n",
       "    <tr>\n",
       "      <th>2</th>\n",
       "      <td>800</td>\n",
       "      <td>4.00</td>\n",
       "      <td>1</td>\n",
       "      <td>0.0</td>\n",
       "      <td>0.0</td>\n",
       "    </tr>\n",
       "    <tr>\n",
       "      <th>3</th>\n",
       "      <td>640</td>\n",
       "      <td>3.19</td>\n",
       "      <td>4</td>\n",
       "      <td>0.0</td>\n",
       "      <td>0.0</td>\n",
       "    </tr>\n",
       "    <tr>\n",
       "      <th>4</th>\n",
       "      <td>520</td>\n",
       "      <td>2.93</td>\n",
       "      <td>4</td>\n",
       "      <td>0.0</td>\n",
       "      <td>0.0</td>\n",
       "    </tr>\n",
       "  </tbody>\n",
       "</table>\n",
       "</div>"
      ],
      "text/plain": [
       "   gre score  gpa score  Rank  Actual admit  Predicted admit\n",
       "0        380       3.61     3           1.0              1.0\n",
       "1        660       3.67     3           0.0              1.0\n",
       "2        800       4.00     1           0.0              0.0\n",
       "3        640       3.19     4           0.0              0.0\n",
       "4        520       2.93     4           0.0              0.0"
      ]
     },
     "execution_count": 32,
     "metadata": {},
     "output_type": "execute_result"
    }
   ],
   "source": [
    "# Y_test and LDA_pred are your actual and predicted values\n",
    "results = pd.DataFrame({'gre score': df[\"gre\"], 'gpa score': df[\"gpa\"], 'Rank': df[\"rank\"], 'Actual admit': Y_test[\"admit\"], 'Predicted admit': Y_test[\"pred_admit\"]})\n",
    "\n",
    "# Print to check\n",
    "results.head()"
   ]
  },
  {
   "cell_type": "code",
   "execution_count": 33,
   "id": "19831393-3d18-4326-82b3-dfb1173e2185",
   "metadata": {},
   "outputs": [
    {
     "name": "stdout",
     "output_type": "stream",
     "text": [
      "File saved successfully!\n"
     ]
    }
   ],
   "source": [
    "# Save the DataFrame to a CSV file\n",
    "results.to_csv('D:/Binary_predictions.csv', index=False)\n",
    "\n",
    "print(\"File saved successfully!\")"
   ]
  }
 ],
 "metadata": {
  "kernelspec": {
   "display_name": "Python 3 (ipykernel)",
   "language": "python",
   "name": "python3"
  },
  "language_info": {
   "codemirror_mode": {
    "name": "ipython",
    "version": 3
   },
   "file_extension": ".py",
   "mimetype": "text/x-python",
   "name": "python",
   "nbconvert_exporter": "python",
   "pygments_lexer": "ipython3",
   "version": "3.12.4"
  }
 },
 "nbformat": 4,
 "nbformat_minor": 5
}
